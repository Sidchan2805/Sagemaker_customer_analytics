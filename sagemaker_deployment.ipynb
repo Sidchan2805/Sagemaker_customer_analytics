{
 "cells": [
  {
   "cell_type": "code",
   "execution_count": 1,
   "id": "990ab1c4-7db5-4357-9106-664f84bd14fd",
   "metadata": {},
   "outputs": [
    {
     "name": "stdout",
     "output_type": "stream",
     "text": [
      "sagemaker.config INFO - Not applying SDK defaults from location: /etc/xdg/sagemaker/config.yaml\n",
      "sagemaker.config INFO - Not applying SDK defaults from location: /home/sagemaker-user/.config/sagemaker/config.yaml\n"
     ]
    }
   ],
   "source": [
    "from sagemaker.sklearn.model import SKLearnModel\n",
    "from sagemaker import get_execution_role, Session\n",
    "session = Session()\n",
    "role = get_execution_role()"
   ]
  },
  {
   "cell_type": "code",
   "execution_count": null,
   "id": "f53c5004-a409-4d1a-b96a-1657d43f90b5",
   "metadata": {},
   "outputs": [
    {
     "name": "stdout",
     "output_type": "stream",
     "text": [
      "----------------------------------------------------------"
     ]
    }
   ],
   "source": [
    "model_data=\"s3://ucicustomerdata/output/sagemaker-scikit-learn-2025-05-29-21-56-40-699/output/model.tar.gz\"\n",
    "sklearn_model = SKLearnModel(\n",
    "    model_data=model_data,\n",
    "    role=role,\n",
    "    entry_point=\"inference.py\",  # Make sure this file is uploaded in the same directory\n",
    "    framework_version=\"0.23-1\",\n",
    "    sagemaker_session=session\n",
    ")\n",
    "\n",
    "# ✅ Deploy model to a live endpoint (use smaller instance if needed)\n",
    "predictor = sklearn_model.deploy(\n",
    "    instance_type=\"ml.t2.medium\",  # Cheaper than ml.m5.large\n",
    "    initial_instance_count=1\n",
    ")"
   ]
  },
  {
   "cell_type": "code",
   "execution_count": null,
   "id": "ab286d05-0bfa-408b-98b8-c7229b960b80",
   "metadata": {},
   "outputs": [],
   "source": [
    "with open(\"sample_input.csv\", \"r\") as file:\n",
    "    payload = file.read()\n",
    "\n",
    "# Predict\n",
    "response = predictor.predict(payload)\n",
    "print(\"Predicted cluster:\", response)"
   ]
  },
  {
   "cell_type": "code",
   "execution_count": null,
   "id": "c9102c10-3551-4849-b8c6-a6c913378f03",
   "metadata": {},
   "outputs": [],
   "source": [
    "predictor.delete_endpoint()"
   ]
  }
 ],
 "metadata": {
  "kernelspec": {
   "display_name": "Python 3 (ipykernel)",
   "language": "python",
   "name": "python3"
  },
  "language_info": {
   "codemirror_mode": {
    "name": "ipython",
    "version": 3
   },
   "file_extension": ".py",
   "mimetype": "text/x-python",
   "name": "python",
   "nbconvert_exporter": "python",
   "pygments_lexer": "ipython3",
   "version": "3.12.9"
  }
 },
 "nbformat": 4,
 "nbformat_minor": 5
}
